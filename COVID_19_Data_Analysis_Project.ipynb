{
  "nbformat": 4,
  "nbformat_minor": 0,
  "metadata": {
    "colab": {
      "name": "COVID 19 Data Analysis Project.ipynb",
      "provenance": [],
      "collapsed_sections": []
    },
    "kernelspec": {
      "name": "python3",
      "display_name": "Python 3"
    }
  },
  "cells": [
    {
      "cell_type": "markdown",
      "metadata": {
        "id": "5kZSdjpY_s5m"
      },
      "source": [
        "# **Task 1: Environment Set Up**"
      ]
    },
    {
      "cell_type": "code",
      "metadata": {
        "id": "lAou8SOCwFSS"
      },
      "source": [
        "import pandas as pd"
      ],
      "execution_count": 4,
      "outputs": []
    },
    {
      "cell_type": "code",
      "metadata": {
        "id": "kfOSp9mZX5ow"
      },
      "source": [
        "import numpy as np"
      ],
      "execution_count": 5,
      "outputs": []
    },
    {
      "cell_type": "code",
      "metadata": {
        "id": "leAbLqZ1X7FR"
      },
      "source": [
        "import seaborn as sns\n",
        "import matplotlib.pyplot as plt\n",
        "%matplotlib inline"
      ],
      "execution_count": 6,
      "outputs": []
    },
    {
      "cell_type": "markdown",
      "metadata": {
        "id": "DcVefhLAAG76"
      },
      "source": [
        "# **Task 2: Data Collection**"
      ]
    },
    {
      "cell_type": "code",
      "metadata": {
        "colab": {
          "base_uri": "https://localhost:8080/",
          "height": 204
        },
        "id": "9dENljyIwv3M",
        "outputId": "843139c3-42a6-4b5b-e960-403828e125e0"
      },
      "source": [
        "df = pd.read_csv(\"https://raw.githubusercontent.com/nytimes/covid-19-data/master/us-counties.csv\")\n",
        "df.head()"
      ],
      "execution_count": 7,
      "outputs": [
        {
          "output_type": "execute_result",
          "data": {
            "text/html": [
              "<div>\n",
              "<style scoped>\n",
              "    .dataframe tbody tr th:only-of-type {\n",
              "        vertical-align: middle;\n",
              "    }\n",
              "\n",
              "    .dataframe tbody tr th {\n",
              "        vertical-align: top;\n",
              "    }\n",
              "\n",
              "    .dataframe thead th {\n",
              "        text-align: right;\n",
              "    }\n",
              "</style>\n",
              "<table border=\"1\" class=\"dataframe\">\n",
              "  <thead>\n",
              "    <tr style=\"text-align: right;\">\n",
              "      <th></th>\n",
              "      <th>date</th>\n",
              "      <th>county</th>\n",
              "      <th>state</th>\n",
              "      <th>fips</th>\n",
              "      <th>cases</th>\n",
              "      <th>deaths</th>\n",
              "    </tr>\n",
              "  </thead>\n",
              "  <tbody>\n",
              "    <tr>\n",
              "      <th>0</th>\n",
              "      <td>2020-01-21</td>\n",
              "      <td>Snohomish</td>\n",
              "      <td>Washington</td>\n",
              "      <td>53061.0</td>\n",
              "      <td>1</td>\n",
              "      <td>0.0</td>\n",
              "    </tr>\n",
              "    <tr>\n",
              "      <th>1</th>\n",
              "      <td>2020-01-22</td>\n",
              "      <td>Snohomish</td>\n",
              "      <td>Washington</td>\n",
              "      <td>53061.0</td>\n",
              "      <td>1</td>\n",
              "      <td>0.0</td>\n",
              "    </tr>\n",
              "    <tr>\n",
              "      <th>2</th>\n",
              "      <td>2020-01-23</td>\n",
              "      <td>Snohomish</td>\n",
              "      <td>Washington</td>\n",
              "      <td>53061.0</td>\n",
              "      <td>1</td>\n",
              "      <td>0.0</td>\n",
              "    </tr>\n",
              "    <tr>\n",
              "      <th>3</th>\n",
              "      <td>2020-01-24</td>\n",
              "      <td>Cook</td>\n",
              "      <td>Illinois</td>\n",
              "      <td>17031.0</td>\n",
              "      <td>1</td>\n",
              "      <td>0.0</td>\n",
              "    </tr>\n",
              "    <tr>\n",
              "      <th>4</th>\n",
              "      <td>2020-01-24</td>\n",
              "      <td>Snohomish</td>\n",
              "      <td>Washington</td>\n",
              "      <td>53061.0</td>\n",
              "      <td>1</td>\n",
              "      <td>0.0</td>\n",
              "    </tr>\n",
              "  </tbody>\n",
              "</table>\n",
              "</div>"
            ],
            "text/plain": [
              "         date     county       state     fips  cases  deaths\n",
              "0  2020-01-21  Snohomish  Washington  53061.0      1     0.0\n",
              "1  2020-01-22  Snohomish  Washington  53061.0      1     0.0\n",
              "2  2020-01-23  Snohomish  Washington  53061.0      1     0.0\n",
              "3  2020-01-24       Cook    Illinois  17031.0      1     0.0\n",
              "4  2020-01-24  Snohomish  Washington  53061.0      1     0.0"
            ]
          },
          "metadata": {
            "tags": []
          },
          "execution_count": 7
        }
      ]
    },
    {
      "cell_type": "markdown",
      "metadata": {
        "id": "xJd-lUBEAOxK"
      },
      "source": [
        "# **Task 3: Data Wrangling and EDA**"
      ]
    },
    {
      "cell_type": "markdown",
      "metadata": {
        "id": "vuoiZPVGAku1"
      },
      "source": [
        "Dropping Columns"
      ]
    },
    {
      "cell_type": "code",
      "metadata": {
        "id": "NG4DiKUBFRym",
        "colab": {
          "base_uri": "https://localhost:8080/",
          "height": 204
        },
        "outputId": "a2a044e0-161d-4d0d-92dc-589e81b3cf43"
      },
      "source": [
        "drop_cols = ['fips']\n",
        "df.drop(drop_cols, inplace=True, axis=1)\n",
        "df.head()"
      ],
      "execution_count": 8,
      "outputs": [
        {
          "output_type": "execute_result",
          "data": {
            "text/html": [
              "<div>\n",
              "<style scoped>\n",
              "    .dataframe tbody tr th:only-of-type {\n",
              "        vertical-align: middle;\n",
              "    }\n",
              "\n",
              "    .dataframe tbody tr th {\n",
              "        vertical-align: top;\n",
              "    }\n",
              "\n",
              "    .dataframe thead th {\n",
              "        text-align: right;\n",
              "    }\n",
              "</style>\n",
              "<table border=\"1\" class=\"dataframe\">\n",
              "  <thead>\n",
              "    <tr style=\"text-align: right;\">\n",
              "      <th></th>\n",
              "      <th>date</th>\n",
              "      <th>county</th>\n",
              "      <th>state</th>\n",
              "      <th>cases</th>\n",
              "      <th>deaths</th>\n",
              "    </tr>\n",
              "  </thead>\n",
              "  <tbody>\n",
              "    <tr>\n",
              "      <th>0</th>\n",
              "      <td>2020-01-21</td>\n",
              "      <td>Snohomish</td>\n",
              "      <td>Washington</td>\n",
              "      <td>1</td>\n",
              "      <td>0.0</td>\n",
              "    </tr>\n",
              "    <tr>\n",
              "      <th>1</th>\n",
              "      <td>2020-01-22</td>\n",
              "      <td>Snohomish</td>\n",
              "      <td>Washington</td>\n",
              "      <td>1</td>\n",
              "      <td>0.0</td>\n",
              "    </tr>\n",
              "    <tr>\n",
              "      <th>2</th>\n",
              "      <td>2020-01-23</td>\n",
              "      <td>Snohomish</td>\n",
              "      <td>Washington</td>\n",
              "      <td>1</td>\n",
              "      <td>0.0</td>\n",
              "    </tr>\n",
              "    <tr>\n",
              "      <th>3</th>\n",
              "      <td>2020-01-24</td>\n",
              "      <td>Cook</td>\n",
              "      <td>Illinois</td>\n",
              "      <td>1</td>\n",
              "      <td>0.0</td>\n",
              "    </tr>\n",
              "    <tr>\n",
              "      <th>4</th>\n",
              "      <td>2020-01-24</td>\n",
              "      <td>Snohomish</td>\n",
              "      <td>Washington</td>\n",
              "      <td>1</td>\n",
              "      <td>0.0</td>\n",
              "    </tr>\n",
              "  </tbody>\n",
              "</table>\n",
              "</div>"
            ],
            "text/plain": [
              "         date     county       state  cases  deaths\n",
              "0  2020-01-21  Snohomish  Washington      1     0.0\n",
              "1  2020-01-22  Snohomish  Washington      1     0.0\n",
              "2  2020-01-23  Snohomish  Washington      1     0.0\n",
              "3  2020-01-24       Cook    Illinois      1     0.0\n",
              "4  2020-01-24  Snohomish  Washington      1     0.0"
            ]
          },
          "metadata": {
            "tags": []
          },
          "execution_count": 8
        }
      ]
    },
    {
      "cell_type": "markdown",
      "metadata": {
        "id": "BOjVwKRkAoDs"
      },
      "source": [
        "Filtering State, County, and Date Columns (California)"
      ]
    },
    {
      "cell_type": "code",
      "metadata": {
        "colab": {
          "base_uri": "https://localhost:8080/",
          "height": 1000
        },
        "id": "YiRr4r29aGZC",
        "outputId": "91e52484-af1e-42d0-c701-7c832c4032e4"
      },
      "source": [
        "df.loc[(df.state == 'California') & (df.county == 'Los Angeles')]\n",
        "df2 = df.loc[(df.state == 'California') & (df.county == 'Los Angeles')]\n",
        "start_date = '2020-12-20'\n",
        "end_date = '2021-1-20'\n",
        "mask_1 = df2['date'] >= start_date \n",
        "mask_2 = df2['date'] <= end_date\n",
        "df2 = df2.loc[mask_1 & mask_2]\n",
        "df2"
      ],
      "execution_count": 9,
      "outputs": [
        {
          "output_type": "execute_result",
          "data": {
            "text/html": [
              "<div>\n",
              "<style scoped>\n",
              "    .dataframe tbody tr th:only-of-type {\n",
              "        vertical-align: middle;\n",
              "    }\n",
              "\n",
              "    .dataframe tbody tr th {\n",
              "        vertical-align: top;\n",
              "    }\n",
              "\n",
              "    .dataframe thead th {\n",
              "        text-align: right;\n",
              "    }\n",
              "</style>\n",
              "<table border=\"1\" class=\"dataframe\">\n",
              "  <thead>\n",
              "    <tr style=\"text-align: right;\">\n",
              "      <th></th>\n",
              "      <th>date</th>\n",
              "      <th>county</th>\n",
              "      <th>state</th>\n",
              "      <th>cases</th>\n",
              "      <th>deaths</th>\n",
              "    </tr>\n",
              "  </thead>\n",
              "  <tbody>\n",
              "    <tr>\n",
              "      <th>846081</th>\n",
              "      <td>2020-12-20</td>\n",
              "      <td>Los Angeles</td>\n",
              "      <td>California</td>\n",
              "      <td>623875</td>\n",
              "      <td>8875.0</td>\n",
              "    </tr>\n",
              "    <tr>\n",
              "      <th>849326</th>\n",
              "      <td>2020-12-21</td>\n",
              "      <td>Los Angeles</td>\n",
              "      <td>California</td>\n",
              "      <td>635058</td>\n",
              "      <td>8931.0</td>\n",
              "    </tr>\n",
              "    <tr>\n",
              "      <th>852571</th>\n",
              "      <td>2020-12-22</td>\n",
              "      <td>Los Angeles</td>\n",
              "      <td>California</td>\n",
              "      <td>647766</td>\n",
              "      <td>9016.0</td>\n",
              "    </tr>\n",
              "    <tr>\n",
              "      <th>855816</th>\n",
              "      <td>2020-12-23</td>\n",
              "      <td>Los Angeles</td>\n",
              "      <td>California</td>\n",
              "      <td>664193</td>\n",
              "      <td>9153.0</td>\n",
              "    </tr>\n",
              "    <tr>\n",
              "      <th>859061</th>\n",
              "      <td>2020-12-24</td>\n",
              "      <td>Los Angeles</td>\n",
              "      <td>California</td>\n",
              "      <td>677538</td>\n",
              "      <td>9299.0</td>\n",
              "    </tr>\n",
              "    <tr>\n",
              "      <th>862306</th>\n",
              "      <td>2020-12-25</td>\n",
              "      <td>Los Angeles</td>\n",
              "      <td>California</td>\n",
              "      <td>677538</td>\n",
              "      <td>9299.0</td>\n",
              "    </tr>\n",
              "    <tr>\n",
              "      <th>865551</th>\n",
              "      <td>2020-12-26</td>\n",
              "      <td>Los Angeles</td>\n",
              "      <td>California</td>\n",
              "      <td>706712</td>\n",
              "      <td>9438.0</td>\n",
              "    </tr>\n",
              "    <tr>\n",
              "      <th>868796</th>\n",
              "      <td>2020-12-27</td>\n",
              "      <td>Los Angeles</td>\n",
              "      <td>California</td>\n",
              "      <td>720099</td>\n",
              "      <td>9482.0</td>\n",
              "    </tr>\n",
              "    <tr>\n",
              "      <th>872041</th>\n",
              "      <td>2020-12-28</td>\n",
              "      <td>Los Angeles</td>\n",
              "      <td>California</td>\n",
              "      <td>733612</td>\n",
              "      <td>9555.0</td>\n",
              "    </tr>\n",
              "    <tr>\n",
              "      <th>875286</th>\n",
              "      <td>2020-12-29</td>\n",
              "      <td>Los Angeles</td>\n",
              "      <td>California</td>\n",
              "      <td>746381</td>\n",
              "      <td>9782.0</td>\n",
              "    </tr>\n",
              "    <tr>\n",
              "      <th>878531</th>\n",
              "      <td>2020-12-30</td>\n",
              "      <td>Los Angeles</td>\n",
              "      <td>California</td>\n",
              "      <td>756412</td>\n",
              "      <td>10056.0</td>\n",
              "    </tr>\n",
              "    <tr>\n",
              "      <th>881776</th>\n",
              "      <td>2020-12-31</td>\n",
              "      <td>Los Angeles</td>\n",
              "      <td>California</td>\n",
              "      <td>770915</td>\n",
              "      <td>10345.0</td>\n",
              "    </tr>\n",
              "    <tr>\n",
              "      <th>885021</th>\n",
              "      <td>2021-01-01</td>\n",
              "      <td>Los Angeles</td>\n",
              "      <td>California</td>\n",
              "      <td>790895</td>\n",
              "      <td>10552.0</td>\n",
              "    </tr>\n",
              "    <tr>\n",
              "      <th>888266</th>\n",
              "      <td>2021-01-02</td>\n",
              "      <td>Los Angeles</td>\n",
              "      <td>California</td>\n",
              "      <td>806523</td>\n",
              "      <td>10682.0</td>\n",
              "    </tr>\n",
              "    <tr>\n",
              "      <th>891513</th>\n",
              "      <td>2021-01-03</td>\n",
              "      <td>Los Angeles</td>\n",
              "      <td>California</td>\n",
              "      <td>818959</td>\n",
              "      <td>10773.0</td>\n",
              "    </tr>\n",
              "    <tr>\n",
              "      <th>894760</th>\n",
              "      <td>2021-01-04</td>\n",
              "      <td>Los Angeles</td>\n",
              "      <td>California</td>\n",
              "      <td>827843</td>\n",
              "      <td>10850.0</td>\n",
              "    </tr>\n",
              "    <tr>\n",
              "      <th>898005</th>\n",
              "      <td>2021-01-05</td>\n",
              "      <td>Los Angeles</td>\n",
              "      <td>California</td>\n",
              "      <td>840956</td>\n",
              "      <td>11071.0</td>\n",
              "    </tr>\n",
              "    <tr>\n",
              "      <th>901250</th>\n",
              "      <td>2021-01-06</td>\n",
              "      <td>Los Angeles</td>\n",
              "      <td>California</td>\n",
              "      <td>852510</td>\n",
              "      <td>11328.0</td>\n",
              "    </tr>\n",
              "    <tr>\n",
              "      <th>904495</th>\n",
              "      <td>2021-01-07</td>\n",
              "      <td>Los Angeles</td>\n",
              "      <td>California</td>\n",
              "      <td>871749</td>\n",
              "      <td>11545.0</td>\n",
              "    </tr>\n",
              "    <tr>\n",
              "      <th>907741</th>\n",
              "      <td>2021-01-08</td>\n",
              "      <td>Los Angeles</td>\n",
              "      <td>California</td>\n",
              "      <td>889787</td>\n",
              "      <td>11863.0</td>\n",
              "    </tr>\n",
              "    <tr>\n",
              "      <th>910986</th>\n",
              "      <td>2021-01-09</td>\n",
              "      <td>Los Angeles</td>\n",
              "      <td>California</td>\n",
              "      <td>906554</td>\n",
              "      <td>12084.0</td>\n",
              "    </tr>\n",
              "    <tr>\n",
              "      <th>914231</th>\n",
              "      <td>2021-01-10</td>\n",
              "      <td>Los Angeles</td>\n",
              "      <td>California</td>\n",
              "      <td>920560</td>\n",
              "      <td>12250.0</td>\n",
              "    </tr>\n",
              "    <tr>\n",
              "      <th>917476</th>\n",
              "      <td>2021-01-11</td>\n",
              "      <td>Los Angeles</td>\n",
              "      <td>California</td>\n",
              "      <td>933083</td>\n",
              "      <td>12387.0</td>\n",
              "    </tr>\n",
              "    <tr>\n",
              "      <th>920721</th>\n",
              "      <td>2021-01-12</td>\n",
              "      <td>Los Angeles</td>\n",
              "      <td>California</td>\n",
              "      <td>944713</td>\n",
              "      <td>12674.0</td>\n",
              "    </tr>\n",
              "    <tr>\n",
              "      <th>923966</th>\n",
              "      <td>2021-01-13</td>\n",
              "      <td>Los Angeles</td>\n",
              "      <td>California</td>\n",
              "      <td>958891</td>\n",
              "      <td>12955.0</td>\n",
              "    </tr>\n",
              "    <tr>\n",
              "      <th>927212</th>\n",
              "      <td>2021-01-14</td>\n",
              "      <td>Los Angeles</td>\n",
              "      <td>California</td>\n",
              "      <td>975693</td>\n",
              "      <td>13234.0</td>\n",
              "    </tr>\n",
              "    <tr>\n",
              "      <th>930457</th>\n",
              "      <td>2021-01-15</td>\n",
              "      <td>Los Angeles</td>\n",
              "      <td>California</td>\n",
              "      <td>990326</td>\n",
              "      <td>13489.0</td>\n",
              "    </tr>\n",
              "    <tr>\n",
              "      <th>933702</th>\n",
              "      <td>2021-01-16</td>\n",
              "      <td>Los Angeles</td>\n",
              "      <td>California</td>\n",
              "      <td>1004322</td>\n",
              "      <td>13741.0</td>\n",
              "    </tr>\n",
              "    <tr>\n",
              "      <th>936947</th>\n",
              "      <td>2021-01-17</td>\n",
              "      <td>Los Angeles</td>\n",
              "      <td>California</td>\n",
              "      <td>1015063</td>\n",
              "      <td>13848.0</td>\n",
              "    </tr>\n",
              "    <tr>\n",
              "      <th>940192</th>\n",
              "      <td>2021-01-18</td>\n",
              "      <td>Los Angeles</td>\n",
              "      <td>California</td>\n",
              "      <td>1024592</td>\n",
              "      <td>13936.0</td>\n",
              "    </tr>\n",
              "    <tr>\n",
              "      <th>943437</th>\n",
              "      <td>2021-01-19</td>\n",
              "      <td>Los Angeles</td>\n",
              "      <td>California</td>\n",
              "      <td>1032277</td>\n",
              "      <td>14122.0</td>\n",
              "    </tr>\n",
              "  </tbody>\n",
              "</table>\n",
              "</div>"
            ],
            "text/plain": [
              "              date       county       state    cases   deaths\n",
              "846081  2020-12-20  Los Angeles  California   623875   8875.0\n",
              "849326  2020-12-21  Los Angeles  California   635058   8931.0\n",
              "852571  2020-12-22  Los Angeles  California   647766   9016.0\n",
              "855816  2020-12-23  Los Angeles  California   664193   9153.0\n",
              "859061  2020-12-24  Los Angeles  California   677538   9299.0\n",
              "862306  2020-12-25  Los Angeles  California   677538   9299.0\n",
              "865551  2020-12-26  Los Angeles  California   706712   9438.0\n",
              "868796  2020-12-27  Los Angeles  California   720099   9482.0\n",
              "872041  2020-12-28  Los Angeles  California   733612   9555.0\n",
              "875286  2020-12-29  Los Angeles  California   746381   9782.0\n",
              "878531  2020-12-30  Los Angeles  California   756412  10056.0\n",
              "881776  2020-12-31  Los Angeles  California   770915  10345.0\n",
              "885021  2021-01-01  Los Angeles  California   790895  10552.0\n",
              "888266  2021-01-02  Los Angeles  California   806523  10682.0\n",
              "891513  2021-01-03  Los Angeles  California   818959  10773.0\n",
              "894760  2021-01-04  Los Angeles  California   827843  10850.0\n",
              "898005  2021-01-05  Los Angeles  California   840956  11071.0\n",
              "901250  2021-01-06  Los Angeles  California   852510  11328.0\n",
              "904495  2021-01-07  Los Angeles  California   871749  11545.0\n",
              "907741  2021-01-08  Los Angeles  California   889787  11863.0\n",
              "910986  2021-01-09  Los Angeles  California   906554  12084.0\n",
              "914231  2021-01-10  Los Angeles  California   920560  12250.0\n",
              "917476  2021-01-11  Los Angeles  California   933083  12387.0\n",
              "920721  2021-01-12  Los Angeles  California   944713  12674.0\n",
              "923966  2021-01-13  Los Angeles  California   958891  12955.0\n",
              "927212  2021-01-14  Los Angeles  California   975693  13234.0\n",
              "930457  2021-01-15  Los Angeles  California   990326  13489.0\n",
              "933702  2021-01-16  Los Angeles  California  1004322  13741.0\n",
              "936947  2021-01-17  Los Angeles  California  1015063  13848.0\n",
              "940192  2021-01-18  Los Angeles  California  1024592  13936.0\n",
              "943437  2021-01-19  Los Angeles  California  1032277  14122.0"
            ]
          },
          "metadata": {
            "tags": []
          },
          "execution_count": 9
        }
      ]
    },
    {
      "cell_type": "markdown",
      "metadata": {
        "id": "zw1ov3yMB6KM"
      },
      "source": [
        "Exploratory Data Analysis (California)"
      ]
    },
    {
      "cell_type": "code",
      "metadata": {
        "colab": {
          "base_uri": "https://localhost:8080/",
          "height": 350
        },
        "id": "u2Juj6-DO0wl",
        "outputId": "1940fa0a-96f7-44ea-d909-aa00a29fd0b9"
      },
      "source": [
        "sns.distplot(df2[\"deaths\"], bins = 10)"
      ],
      "execution_count": 10,
      "outputs": [
        {
          "output_type": "stream",
          "text": [
            "/usr/local/lib/python3.6/dist-packages/seaborn/distributions.py:2557: FutureWarning: `distplot` is a deprecated function and will be removed in a future version. Please adapt your code to use either `displot` (a figure-level function with similar flexibility) or `histplot` (an axes-level function for histograms).\n",
            "  warnings.warn(msg, FutureWarning)\n"
          ],
          "name": "stderr"
        },
        {
          "output_type": "execute_result",
          "data": {
            "text/plain": [
              "<matplotlib.axes._subplots.AxesSubplot at 0x7fbd0501f940>"
            ]
          },
          "metadata": {
            "tags": []
          },
          "execution_count": 10
        },
        {
          "output_type": "display_data",
          "data": {
            "image/png": "[encoded data removed]",
            "text/plain": [
              "<Figure size 432x288 with 1 Axes>"
            ]
          },
          "metadata": {
            "tags": [],
            "needs_background": "light"
          }
        }
      ]
    },
    {
      "cell_type": "code",
      "metadata": {
        "colab": {
          "base_uri": "https://localhost:8080/",
          "height": 361
        },
        "id": "SC3Z7b_RP5y4",
        "outputId": "44946a12-a3d7-4636-ac1c-52b8faa0ded3"
      },
      "source": [
        "sns.distplot(df2[\"cases\"], bins = 10)"
      ],
      "execution_count": 11,
      "outputs": [
        {
          "output_type": "stream",
          "text": [
            "/usr/local/lib/python3.6/dist-packages/seaborn/distributions.py:2557: FutureWarning: `distplot` is a deprecated function and will be removed in a future version. Please adapt your code to use either `displot` (a figure-level function with similar flexibility) or `histplot` (an axes-level function for histograms).\n",
            "  warnings.warn(msg, FutureWarning)\n"
          ],
          "name": "stderr"
        },
        {
          "output_type": "execute_result",
          "data": {
            "text/plain": [
              "<matplotlib.axes._subplots.AxesSubplot at 0x7fbd04f626a0>"
            ]
          },
          "metadata": {
            "tags": []
          },
          "execution_count": 11
        },
        {
          "output_type": "display_data",
          "data": {
            "image/png": "[encoded data removed]",
            "text/plain": [
              "<Figure size 432x288 with 1 Axes>"
            ]
          },
          "metadata": {
            "tags": [],
            "needs_background": "light"
          }
        }
      ]
    },
    {
      "cell_type": "code",
      "metadata": {
        "colab": {
          "base_uri": "https://localhost:8080/",
          "height": 458
        },
        "id": "JfOkGN8tQP-s",
        "outputId": "2755e65b-26bf-4c86-bd25-daaf6f82fe89"
      },
      "source": [
        "sns.jointplot(x='cases', y='deaths', data=df2)"
      ],
      "execution_count": 12,
      "outputs": [
        {
          "output_type": "execute_result",
          "data": {
            "text/plain": [
              "<seaborn.axisgrid.JointGrid at 0x7fbd03f9cfd0>"
            ]
          },
          "metadata": {
            "tags": []
          },
          "execution_count": 12
        },
        {
          "output_type": "display_data",
          "data": {
            "image/png": "[encoded data removed]",
            "text/plain": [
              "<Figure size 432x432 with 3 Axes>"
            ]
          },
          "metadata": {
            "tags": [],
            "needs_background": "light"
          }
        }
      ]
    },
    {
      "cell_type": "markdown",
      "metadata": {
        "id": "oO8bJPFSCAOU"
      },
      "source": [
        "Filtering State, County, and Date Columns (Florida)"
      ]
    },
    {
      "cell_type": "code",
      "metadata": {
        "colab": {
          "base_uri": "https://localhost:8080/",
          "height": 1000
        },
        "id": "uRV06KT04GCV",
        "outputId": "a33212dd-3402-4180-fe91-58a1d2f465c7"
      },
      "source": [
        "df.loc[(df.state == 'Florida') & (df.county == 'Nassau')]\n",
        "df3 = df.loc[(df.state == 'Florida') & (df.county == 'Nassau')]\n",
        "start_date = '2020-12-20'\n",
        "end_date = '2021-1-19'\n",
        "mask_1 = df3['date'] >= start_date \n",
        "mask_2 = df3['date'] <= end_date\n",
        "df3 = df3.loc[mask_1 & mask_2]\n",
        "df3"
      ],
      "execution_count": 21,
      "outputs": [
        {
          "output_type": "execute_result",
          "data": {
            "text/html": [
              "<div>\n",
              "<style scoped>\n",
              "    .dataframe tbody tr th:only-of-type {\n",
              "        vertical-align: middle;\n",
              "    }\n",
              "\n",
              "    .dataframe tbody tr th {\n",
              "        vertical-align: top;\n",
              "    }\n",
              "\n",
              "    .dataframe thead th {\n",
              "        text-align: right;\n",
              "    }\n",
              "</style>\n",
              "<table border=\"1\" class=\"dataframe\">\n",
              "  <thead>\n",
              "    <tr style=\"text-align: right;\">\n",
              "      <th></th>\n",
              "      <th>date</th>\n",
              "      <th>county</th>\n",
              "      <th>state</th>\n",
              "      <th>cases</th>\n",
              "      <th>deaths</th>\n",
              "    </tr>\n",
              "  </thead>\n",
              "  <tbody>\n",
              "    <tr>\n",
              "      <th>846243</th>\n",
              "      <td>2020-12-20</td>\n",
              "      <td>Nassau</td>\n",
              "      <td>Florida</td>\n",
              "      <td>4077</td>\n",
              "      <td>64.0</td>\n",
              "    </tr>\n",
              "    <tr>\n",
              "      <th>849488</th>\n",
              "      <td>2020-12-21</td>\n",
              "      <td>Nassau</td>\n",
              "      <td>Florida</td>\n",
              "      <td>4136</td>\n",
              "      <td>64.0</td>\n",
              "    </tr>\n",
              "    <tr>\n",
              "      <th>852733</th>\n",
              "      <td>2020-12-22</td>\n",
              "      <td>Nassau</td>\n",
              "      <td>Florida</td>\n",
              "      <td>4194</td>\n",
              "      <td>65.0</td>\n",
              "    </tr>\n",
              "    <tr>\n",
              "      <th>855978</th>\n",
              "      <td>2020-12-23</td>\n",
              "      <td>Nassau</td>\n",
              "      <td>Florida</td>\n",
              "      <td>4272</td>\n",
              "      <td>65.0</td>\n",
              "    </tr>\n",
              "    <tr>\n",
              "      <th>859223</th>\n",
              "      <td>2020-12-24</td>\n",
              "      <td>Nassau</td>\n",
              "      <td>Florida</td>\n",
              "      <td>4370</td>\n",
              "      <td>66.0</td>\n",
              "    </tr>\n",
              "    <tr>\n",
              "      <th>862468</th>\n",
              "      <td>2020-12-25</td>\n",
              "      <td>Nassau</td>\n",
              "      <td>Florida</td>\n",
              "      <td>4370</td>\n",
              "      <td>66.0</td>\n",
              "    </tr>\n",
              "    <tr>\n",
              "      <th>865713</th>\n",
              "      <td>2020-12-26</td>\n",
              "      <td>Nassau</td>\n",
              "      <td>Florida</td>\n",
              "      <td>4446</td>\n",
              "      <td>66.0</td>\n",
              "    </tr>\n",
              "    <tr>\n",
              "      <th>868958</th>\n",
              "      <td>2020-12-27</td>\n",
              "      <td>Nassau</td>\n",
              "      <td>Florida</td>\n",
              "      <td>4488</td>\n",
              "      <td>66.0</td>\n",
              "    </tr>\n",
              "    <tr>\n",
              "      <th>872203</th>\n",
              "      <td>2020-12-28</td>\n",
              "      <td>Nassau</td>\n",
              "      <td>Florida</td>\n",
              "      <td>4521</td>\n",
              "      <td>66.0</td>\n",
              "    </tr>\n",
              "    <tr>\n",
              "      <th>875448</th>\n",
              "      <td>2020-12-29</td>\n",
              "      <td>Nassau</td>\n",
              "      <td>Florida</td>\n",
              "      <td>4608</td>\n",
              "      <td>66.0</td>\n",
              "    </tr>\n",
              "    <tr>\n",
              "      <th>878693</th>\n",
              "      <td>2020-12-30</td>\n",
              "      <td>Nassau</td>\n",
              "      <td>Florida</td>\n",
              "      <td>4665</td>\n",
              "      <td>66.0</td>\n",
              "    </tr>\n",
              "    <tr>\n",
              "      <th>881938</th>\n",
              "      <td>2020-12-31</td>\n",
              "      <td>Nassau</td>\n",
              "      <td>Florida</td>\n",
              "      <td>4775</td>\n",
              "      <td>66.0</td>\n",
              "    </tr>\n",
              "    <tr>\n",
              "      <th>885183</th>\n",
              "      <td>2021-01-01</td>\n",
              "      <td>Nassau</td>\n",
              "      <td>Florida</td>\n",
              "      <td>4775</td>\n",
              "      <td>66.0</td>\n",
              "    </tr>\n",
              "    <tr>\n",
              "      <th>888428</th>\n",
              "      <td>2021-01-02</td>\n",
              "      <td>Nassau</td>\n",
              "      <td>Florida</td>\n",
              "      <td>4962</td>\n",
              "      <td>66.0</td>\n",
              "    </tr>\n",
              "    <tr>\n",
              "      <th>891675</th>\n",
              "      <td>2021-01-03</td>\n",
              "      <td>Nassau</td>\n",
              "      <td>Florida</td>\n",
              "      <td>5041</td>\n",
              "      <td>66.0</td>\n",
              "    </tr>\n",
              "    <tr>\n",
              "      <th>894922</th>\n",
              "      <td>2021-01-04</td>\n",
              "      <td>Nassau</td>\n",
              "      <td>Florida</td>\n",
              "      <td>5124</td>\n",
              "      <td>66.0</td>\n",
              "    </tr>\n",
              "    <tr>\n",
              "      <th>898167</th>\n",
              "      <td>2021-01-05</td>\n",
              "      <td>Nassau</td>\n",
              "      <td>Florida</td>\n",
              "      <td>5247</td>\n",
              "      <td>67.0</td>\n",
              "    </tr>\n",
              "    <tr>\n",
              "      <th>901412</th>\n",
              "      <td>2021-01-06</td>\n",
              "      <td>Nassau</td>\n",
              "      <td>Florida</td>\n",
              "      <td>5328</td>\n",
              "      <td>68.0</td>\n",
              "    </tr>\n",
              "    <tr>\n",
              "      <th>904657</th>\n",
              "      <td>2021-01-07</td>\n",
              "      <td>Nassau</td>\n",
              "      <td>Florida</td>\n",
              "      <td>5449</td>\n",
              "      <td>68.0</td>\n",
              "    </tr>\n",
              "    <tr>\n",
              "      <th>907903</th>\n",
              "      <td>2021-01-08</td>\n",
              "      <td>Nassau</td>\n",
              "      <td>Florida</td>\n",
              "      <td>5565</td>\n",
              "      <td>68.0</td>\n",
              "    </tr>\n",
              "    <tr>\n",
              "      <th>911148</th>\n",
              "      <td>2021-01-09</td>\n",
              "      <td>Nassau</td>\n",
              "      <td>Florida</td>\n",
              "      <td>5651</td>\n",
              "      <td>70.0</td>\n",
              "    </tr>\n",
              "    <tr>\n",
              "      <th>914393</th>\n",
              "      <td>2021-01-10</td>\n",
              "      <td>Nassau</td>\n",
              "      <td>Florida</td>\n",
              "      <td>5718</td>\n",
              "      <td>70.0</td>\n",
              "    </tr>\n",
              "    <tr>\n",
              "      <th>917638</th>\n",
              "      <td>2021-01-11</td>\n",
              "      <td>Nassau</td>\n",
              "      <td>Florida</td>\n",
              "      <td>5772</td>\n",
              "      <td>70.0</td>\n",
              "    </tr>\n",
              "    <tr>\n",
              "      <th>920883</th>\n",
              "      <td>2021-01-12</td>\n",
              "      <td>Nassau</td>\n",
              "      <td>Florida</td>\n",
              "      <td>5875</td>\n",
              "      <td>71.0</td>\n",
              "    </tr>\n",
              "    <tr>\n",
              "      <th>924128</th>\n",
              "      <td>2021-01-13</td>\n",
              "      <td>Nassau</td>\n",
              "      <td>Florida</td>\n",
              "      <td>5953</td>\n",
              "      <td>71.0</td>\n",
              "    </tr>\n",
              "    <tr>\n",
              "      <th>927374</th>\n",
              "      <td>2021-01-14</td>\n",
              "      <td>Nassau</td>\n",
              "      <td>Florida</td>\n",
              "      <td>6003</td>\n",
              "      <td>72.0</td>\n",
              "    </tr>\n",
              "    <tr>\n",
              "      <th>930619</th>\n",
              "      <td>2021-01-15</td>\n",
              "      <td>Nassau</td>\n",
              "      <td>Florida</td>\n",
              "      <td>6128</td>\n",
              "      <td>73.0</td>\n",
              "    </tr>\n",
              "    <tr>\n",
              "      <th>933864</th>\n",
              "      <td>2021-01-16</td>\n",
              "      <td>Nassau</td>\n",
              "      <td>Florida</td>\n",
              "      <td>6204</td>\n",
              "      <td>73.0</td>\n",
              "    </tr>\n",
              "    <tr>\n",
              "      <th>937109</th>\n",
              "      <td>2021-01-17</td>\n",
              "      <td>Nassau</td>\n",
              "      <td>Florida</td>\n",
              "      <td>6243</td>\n",
              "      <td>73.0</td>\n",
              "    </tr>\n",
              "    <tr>\n",
              "      <th>940354</th>\n",
              "      <td>2021-01-18</td>\n",
              "      <td>Nassau</td>\n",
              "      <td>Florida</td>\n",
              "      <td>6292</td>\n",
              "      <td>73.0</td>\n",
              "    </tr>\n",
              "    <tr>\n",
              "      <th>943599</th>\n",
              "      <td>2021-01-19</td>\n",
              "      <td>Nassau</td>\n",
              "      <td>Florida</td>\n",
              "      <td>6341</td>\n",
              "      <td>73.0</td>\n",
              "    </tr>\n",
              "  </tbody>\n",
              "</table>\n",
              "</div>"
            ],
            "text/plain": [
              "              date  county    state  cases  deaths\n",
              "846243  2020-12-20  Nassau  Florida   4077    64.0\n",
              "849488  2020-12-21  Nassau  Florida   4136    64.0\n",
              "852733  2020-12-22  Nassau  Florida   4194    65.0\n",
              "855978  2020-12-23  Nassau  Florida   4272    65.0\n",
              "859223  2020-12-24  Nassau  Florida   4370    66.0\n",
              "862468  2020-12-25  Nassau  Florida   4370    66.0\n",
              "865713  2020-12-26  Nassau  Florida   4446    66.0\n",
              "868958  2020-12-27  Nassau  Florida   4488    66.0\n",
              "872203  2020-12-28  Nassau  Florida   4521    66.0\n",
              "875448  2020-12-29  Nassau  Florida   4608    66.0\n",
              "878693  2020-12-30  Nassau  Florida   4665    66.0\n",
              "881938  2020-12-31  Nassau  Florida   4775    66.0\n",
              "885183  2021-01-01  Nassau  Florida   4775    66.0\n",
              "888428  2021-01-02  Nassau  Florida   4962    66.0\n",
              "891675  2021-01-03  Nassau  Florida   5041    66.0\n",
              "894922  2021-01-04  Nassau  Florida   5124    66.0\n",
              "898167  2021-01-05  Nassau  Florida   5247    67.0\n",
              "901412  2021-01-06  Nassau  Florida   5328    68.0\n",
              "904657  2021-01-07  Nassau  Florida   5449    68.0\n",
              "907903  2021-01-08  Nassau  Florida   5565    68.0\n",
              "911148  2021-01-09  Nassau  Florida   5651    70.0\n",
              "914393  2021-01-10  Nassau  Florida   5718    70.0\n",
              "917638  2021-01-11  Nassau  Florida   5772    70.0\n",
              "920883  2021-01-12  Nassau  Florida   5875    71.0\n",
              "924128  2021-01-13  Nassau  Florida   5953    71.0\n",
              "927374  2021-01-14  Nassau  Florida   6003    72.0\n",
              "930619  2021-01-15  Nassau  Florida   6128    73.0\n",
              "933864  2021-01-16  Nassau  Florida   6204    73.0\n",
              "937109  2021-01-17  Nassau  Florida   6243    73.0\n",
              "940354  2021-01-18  Nassau  Florida   6292    73.0\n",
              "943599  2021-01-19  Nassau  Florida   6341    73.0"
            ]
          },
          "metadata": {
            "tags": []
          },
          "execution_count": 21
        }
      ]
    },
    {
      "cell_type": "markdown",
      "metadata": {
        "id": "5la-MEMLCHjX"
      },
      "source": [
        "Exploratory Data Analysis (Florida)"
      ]
    },
    {
      "cell_type": "code",
      "metadata": {
        "colab": {
          "base_uri": "https://localhost:8080/",
          "height": 350
        },
        "id": "BfieP8jUQoSC",
        "outputId": "ddc6abbd-6c58-4501-a3d2-6364a299e8f9"
      },
      "source": [
        "sns.distplot(df3[\"cases\"], bins = 10)"
      ],
      "execution_count": 22,
      "outputs": [
        {
          "output_type": "stream",
          "text": [
            "/usr/local/lib/python3.6/dist-packages/seaborn/distributions.py:2557: FutureWarning: `distplot` is a deprecated function and will be removed in a future version. Please adapt your code to use either `displot` (a figure-level function with similar flexibility) or `histplot` (an axes-level function for histograms).\n",
            "  warnings.warn(msg, FutureWarning)\n"
          ],
          "name": "stderr"
        },
        {
          "output_type": "execute_result",
          "data": {
            "text/plain": [
              "<matplotlib.axes._subplots.AxesSubplot at 0x7fbd04d0f9e8>"
            ]
          },
          "metadata": {
            "tags": []
          },
          "execution_count": 22
        },
        {
          "output_type": "display_data",
          "data": {
            "image/png": "[encoded data removed]",
            "text/plain": [
              "<Figure size 432x288 with 1 Axes>"
            ]
          },
          "metadata": {
            "tags": [],
            "needs_background": "light"
          }
        }
      ]
    },
    {
      "cell_type": "code",
      "metadata": {
        "colab": {
          "base_uri": "https://localhost:8080/",
          "height": 350
        },
        "id": "nHGB0XwcAY5N",
        "outputId": "035300bc-445f-467b-f9db-eb26e27cbc37"
      },
      "source": [
        "sns.distplot(df3[\"deaths\"], bins = 5)"
      ],
      "execution_count": 23,
      "outputs": [
        {
          "output_type": "stream",
          "text": [
            "/usr/local/lib/python3.6/dist-packages/seaborn/distributions.py:2557: FutureWarning: `distplot` is a deprecated function and will be removed in a future version. Please adapt your code to use either `displot` (a figure-level function with similar flexibility) or `histplot` (an axes-level function for histograms).\n",
            "  warnings.warn(msg, FutureWarning)\n"
          ],
          "name": "stderr"
        },
        {
          "output_type": "execute_result",
          "data": {
            "text/plain": [
              "<matplotlib.axes._subplots.AxesSubplot at 0x7fbcfb559668>"
            ]
          },
          "metadata": {
            "tags": []
          },
          "execution_count": 23
        },
        {
          "output_type": "display_data",
          "data": {
            "image/png": "[encoded data removed]",
            "text/plain": [
              "<Figure size 432x288 with 1 Axes>"
            ]
          },
          "metadata": {
            "tags": [],
            "needs_background": "light"
          }
        }
      ]
    },
    {
      "cell_type": "code",
      "metadata": {
        "colab": {
          "base_uri": "https://localhost:8080/",
          "height": 458
        },
        "id": "HUduxDXNQ3Fb",
        "outputId": "3290c3e1-13c6-420b-8cde-6ed29d69f9d6"
      },
      "source": [
        "sns.jointplot(x='cases', y='deaths', data=df3)"
      ],
      "execution_count": 24,
      "outputs": [
        {
          "output_type": "execute_result",
          "data": {
            "text/plain": [
              "<seaborn.axisgrid.JointGrid at 0x7fbcfb5590b8>"
            ]
          },
          "metadata": {
            "tags": []
          },
          "execution_count": 24
        },
        {
          "output_type": "display_data",
          "data": {
            "image/png": "[encoded data removed]",
            "text/plain": [
              "<Figure size 432x432 with 3 Axes>"
            ]
          },
          "metadata": {
            "tags": [],
            "needs_background": "light"
          }
        }
      ]
    },
    {
      "cell_type": "markdown",
      "metadata": {
        "id": "vB_aGpiXAXZr"
      },
      "source": [
        "# **Task 4: Understanding NY COVID-19 Data in the Last 30 Days**"
      ]
    },
    {
      "cell_type": "markdown",
      "metadata": {
        "id": "cj-hWwnrACm-"
      },
      "source": [
        "Filtering State and County Columns (New York)"
      ]
    },
    {
      "cell_type": "code",
      "metadata": {
        "id": "WMDNjUZvGR45",
        "colab": {
          "base_uri": "https://localhost:8080/",
          "height": 419
        },
        "outputId": "9adf1ac0-ec7a-4dd1-f18b-c5a9d713cfdc"
      },
      "source": [
        "df.loc[(df.state == 'New York') & (df.county == 'New York City')]\n",
        "df4 = df.loc[(df.state == 'New York') & (df.county == 'New York City')]\n",
        "df4"
      ],
      "execution_count": 30,
      "outputs": [
        {
          "output_type": "execute_result",
          "data": {
            "text/html": [
              "<div>\n",
              "<style scoped>\n",
              "    .dataframe tbody tr th:only-of-type {\n",
              "        vertical-align: middle;\n",
              "    }\n",
              "\n",
              "    .dataframe tbody tr th {\n",
              "        vertical-align: top;\n",
              "    }\n",
              "\n",
              "    .dataframe thead th {\n",
              "        text-align: right;\n",
              "    }\n",
              "</style>\n",
              "<table border=\"1\" class=\"dataframe\">\n",
              "  <thead>\n",
              "    <tr style=\"text-align: right;\">\n",
              "      <th></th>\n",
              "      <th>date</th>\n",
              "      <th>county</th>\n",
              "      <th>state</th>\n",
              "      <th>cases</th>\n",
              "      <th>deaths</th>\n",
              "    </tr>\n",
              "  </thead>\n",
              "  <tbody>\n",
              "    <tr>\n",
              "      <th>416</th>\n",
              "      <td>2020-03-01</td>\n",
              "      <td>New York City</td>\n",
              "      <td>New York</td>\n",
              "      <td>1</td>\n",
              "      <td>0.0</td>\n",
              "    </tr>\n",
              "    <tr>\n",
              "      <th>448</th>\n",
              "      <td>2020-03-02</td>\n",
              "      <td>New York City</td>\n",
              "      <td>New York</td>\n",
              "      <td>1</td>\n",
              "      <td>0.0</td>\n",
              "    </tr>\n",
              "    <tr>\n",
              "      <th>482</th>\n",
              "      <td>2020-03-03</td>\n",
              "      <td>New York City</td>\n",
              "      <td>New York</td>\n",
              "      <td>2</td>\n",
              "      <td>0.0</td>\n",
              "    </tr>\n",
              "    <tr>\n",
              "      <th>518</th>\n",
              "      <td>2020-03-04</td>\n",
              "      <td>New York City</td>\n",
              "      <td>New York</td>\n",
              "      <td>2</td>\n",
              "      <td>0.0</td>\n",
              "    </tr>\n",
              "    <tr>\n",
              "      <th>565</th>\n",
              "      <td>2020-03-05</td>\n",
              "      <td>New York City</td>\n",
              "      <td>New York</td>\n",
              "      <td>4</td>\n",
              "      <td>0.0</td>\n",
              "    </tr>\n",
              "    <tr>\n",
              "      <th>...</th>\n",
              "      <td>...</td>\n",
              "      <td>...</td>\n",
              "      <td>...</td>\n",
              "      <td>...</td>\n",
              "      <td>...</td>\n",
              "    </tr>\n",
              "    <tr>\n",
              "      <th>932126</th>\n",
              "      <td>2021-01-15</td>\n",
              "      <td>New York City</td>\n",
              "      <td>New York</td>\n",
              "      <td>517963</td>\n",
              "      <td>25909.0</td>\n",
              "    </tr>\n",
              "    <tr>\n",
              "      <th>935371</th>\n",
              "      <td>2021-01-16</td>\n",
              "      <td>New York City</td>\n",
              "      <td>New York</td>\n",
              "      <td>524231</td>\n",
              "      <td>25970.0</td>\n",
              "    </tr>\n",
              "    <tr>\n",
              "      <th>938616</th>\n",
              "      <td>2021-01-17</td>\n",
              "      <td>New York City</td>\n",
              "      <td>New York</td>\n",
              "      <td>529834</td>\n",
              "      <td>26036.0</td>\n",
              "    </tr>\n",
              "    <tr>\n",
              "      <th>941861</th>\n",
              "      <td>2021-01-18</td>\n",
              "      <td>New York City</td>\n",
              "      <td>New York</td>\n",
              "      <td>536287</td>\n",
              "      <td>26104.0</td>\n",
              "    </tr>\n",
              "    <tr>\n",
              "      <th>945107</th>\n",
              "      <td>2021-01-19</td>\n",
              "      <td>New York City</td>\n",
              "      <td>New York</td>\n",
              "      <td>541846</td>\n",
              "      <td>26161.0</td>\n",
              "    </tr>\n",
              "  </tbody>\n",
              "</table>\n",
              "<p>325 rows × 5 columns</p>\n",
              "</div>"
            ],
            "text/plain": [
              "              date         county     state   cases   deaths\n",
              "416     2020-03-01  New York City  New York       1      0.0\n",
              "448     2020-03-02  New York City  New York       1      0.0\n",
              "482     2020-03-03  New York City  New York       2      0.0\n",
              "518     2020-03-04  New York City  New York       2      0.0\n",
              "565     2020-03-05  New York City  New York       4      0.0\n",
              "...            ...            ...       ...     ...      ...\n",
              "932126  2021-01-15  New York City  New York  517963  25909.0\n",
              "935371  2021-01-16  New York City  New York  524231  25970.0\n",
              "938616  2021-01-17  New York City  New York  529834  26036.0\n",
              "941861  2021-01-18  New York City  New York  536287  26104.0\n",
              "945107  2021-01-19  New York City  New York  541846  26161.0\n",
              "\n",
              "[325 rows x 5 columns]"
            ]
          },
          "metadata": {
            "tags": []
          },
          "execution_count": 30
        }
      ]
    },
    {
      "cell_type": "markdown",
      "metadata": {
        "id": "nIsLEuBYAWVb"
      },
      "source": [
        "Filtering Date Column for the Last 30 Days (New York)"
      ]
    },
    {
      "cell_type": "code",
      "metadata": {
        "colab": {
          "base_uri": "https://localhost:8080/",
          "height": 1000
        },
        "id": "V6RdmVdHW5Gv",
        "outputId": "bf9f48f8-d36c-481d-fc36-db31c6a730e4"
      },
      "source": [
        "start_date = '2020-12-20'\n",
        "end_date = '2021-1-19'\n",
        "mask_1 = df4['date'] >= start_date \n",
        "mask_2 = df4['date'] <= end_date\n",
        "df4 = df4.loc[mask_1 & mask_2]\n",
        "df4"
      ],
      "execution_count": 31,
      "outputs": [
        {
          "output_type": "execute_result",
          "data": {
            "text/html": [
              "<div>\n",
              "<style scoped>\n",
              "    .dataframe tbody tr th:only-of-type {\n",
              "        vertical-align: middle;\n",
              "    }\n",
              "\n",
              "    .dataframe tbody tr th {\n",
              "        vertical-align: top;\n",
              "    }\n",
              "\n",
              "    .dataframe thead th {\n",
              "        text-align: right;\n",
              "    }\n",
              "</style>\n",
              "<table border=\"1\" class=\"dataframe\">\n",
              "  <thead>\n",
              "    <tr style=\"text-align: right;\">\n",
              "      <th></th>\n",
              "      <th>date</th>\n",
              "      <th>county</th>\n",
              "      <th>state</th>\n",
              "      <th>cases</th>\n",
              "      <th>deaths</th>\n",
              "    </tr>\n",
              "  </thead>\n",
              "  <tbody>\n",
              "    <tr>\n",
              "      <th>847750</th>\n",
              "      <td>2020-12-20</td>\n",
              "      <td>New York City</td>\n",
              "      <td>New York</td>\n",
              "      <td>383808</td>\n",
              "      <td>24697.0</td>\n",
              "    </tr>\n",
              "    <tr>\n",
              "      <th>850995</th>\n",
              "      <td>2020-12-21</td>\n",
              "      <td>New York City</td>\n",
              "      <td>New York</td>\n",
              "      <td>387595</td>\n",
              "      <td>24735.0</td>\n",
              "    </tr>\n",
              "    <tr>\n",
              "      <th>854240</th>\n",
              "      <td>2020-12-22</td>\n",
              "      <td>New York City</td>\n",
              "      <td>New York</td>\n",
              "      <td>391634</td>\n",
              "      <td>24768.0</td>\n",
              "    </tr>\n",
              "    <tr>\n",
              "      <th>857485</th>\n",
              "      <td>2020-12-23</td>\n",
              "      <td>New York City</td>\n",
              "      <td>New York</td>\n",
              "      <td>395810</td>\n",
              "      <td>24790.0</td>\n",
              "    </tr>\n",
              "    <tr>\n",
              "      <th>860730</th>\n",
              "      <td>2020-12-24</td>\n",
              "      <td>New York City</td>\n",
              "      <td>New York</td>\n",
              "      <td>401251</td>\n",
              "      <td>24842.0</td>\n",
              "    </tr>\n",
              "    <tr>\n",
              "      <th>863975</th>\n",
              "      <td>2020-12-25</td>\n",
              "      <td>New York City</td>\n",
              "      <td>New York</td>\n",
              "      <td>405857</td>\n",
              "      <td>24889.0</td>\n",
              "    </tr>\n",
              "    <tr>\n",
              "      <th>867220</th>\n",
              "      <td>2020-12-26</td>\n",
              "      <td>New York City</td>\n",
              "      <td>New York</td>\n",
              "      <td>410048</td>\n",
              "      <td>24931.0</td>\n",
              "    </tr>\n",
              "    <tr>\n",
              "      <th>870465</th>\n",
              "      <td>2020-12-27</td>\n",
              "      <td>New York City</td>\n",
              "      <td>New York</td>\n",
              "      <td>413472</td>\n",
              "      <td>24973.0</td>\n",
              "    </tr>\n",
              "    <tr>\n",
              "      <th>873710</th>\n",
              "      <td>2020-12-28</td>\n",
              "      <td>New York City</td>\n",
              "      <td>New York</td>\n",
              "      <td>416922</td>\n",
              "      <td>25008.0</td>\n",
              "    </tr>\n",
              "    <tr>\n",
              "      <th>876955</th>\n",
              "      <td>2020-12-29</td>\n",
              "      <td>New York City</td>\n",
              "      <td>New York</td>\n",
              "      <td>422074</td>\n",
              "      <td>25055.0</td>\n",
              "    </tr>\n",
              "    <tr>\n",
              "      <th>880200</th>\n",
              "      <td>2020-12-30</td>\n",
              "      <td>New York City</td>\n",
              "      <td>New York</td>\n",
              "      <td>426279</td>\n",
              "      <td>25099.0</td>\n",
              "    </tr>\n",
              "    <tr>\n",
              "      <th>883445</th>\n",
              "      <td>2020-12-31</td>\n",
              "      <td>New York City</td>\n",
              "      <td>New York</td>\n",
              "      <td>430863</td>\n",
              "      <td>25144.0</td>\n",
              "    </tr>\n",
              "    <tr>\n",
              "      <th>886690</th>\n",
              "      <td>2021-01-01</td>\n",
              "      <td>New York City</td>\n",
              "      <td>New York</td>\n",
              "      <td>436692</td>\n",
              "      <td>25186.0</td>\n",
              "    </tr>\n",
              "    <tr>\n",
              "      <th>889937</th>\n",
              "      <td>2021-01-02</td>\n",
              "      <td>New York City</td>\n",
              "      <td>New York</td>\n",
              "      <td>442695</td>\n",
              "      <td>25211.0</td>\n",
              "    </tr>\n",
              "    <tr>\n",
              "      <th>893183</th>\n",
              "      <td>2021-01-03</td>\n",
              "      <td>New York City</td>\n",
              "      <td>New York</td>\n",
              "      <td>446899</td>\n",
              "      <td>25244.0</td>\n",
              "    </tr>\n",
              "    <tr>\n",
              "      <th>896429</th>\n",
              "      <td>2021-01-04</td>\n",
              "      <td>New York City</td>\n",
              "      <td>New York</td>\n",
              "      <td>450658</td>\n",
              "      <td>25284.0</td>\n",
              "    </tr>\n",
              "    <tr>\n",
              "      <th>899674</th>\n",
              "      <td>2021-01-05</td>\n",
              "      <td>New York City</td>\n",
              "      <td>New York</td>\n",
              "      <td>455997</td>\n",
              "      <td>25309.0</td>\n",
              "    </tr>\n",
              "    <tr>\n",
              "      <th>902919</th>\n",
              "      <td>2021-01-06</td>\n",
              "      <td>New York City</td>\n",
              "      <td>New York</td>\n",
              "      <td>460988</td>\n",
              "      <td>25362.0</td>\n",
              "    </tr>\n",
              "    <tr>\n",
              "      <th>906165</th>\n",
              "      <td>2021-01-07</td>\n",
              "      <td>New York City</td>\n",
              "      <td>New York</td>\n",
              "      <td>467327</td>\n",
              "      <td>25416.0</td>\n",
              "    </tr>\n",
              "    <tr>\n",
              "      <th>909410</th>\n",
              "      <td>2021-01-08</td>\n",
              "      <td>New York City</td>\n",
              "      <td>New York</td>\n",
              "      <td>474339</td>\n",
              "      <td>25453.0</td>\n",
              "    </tr>\n",
              "    <tr>\n",
              "      <th>912655</th>\n",
              "      <td>2021-01-09</td>\n",
              "      <td>New York City</td>\n",
              "      <td>New York</td>\n",
              "      <td>481279</td>\n",
              "      <td>25505.0</td>\n",
              "    </tr>\n",
              "    <tr>\n",
              "      <th>915900</th>\n",
              "      <td>2021-01-10</td>\n",
              "      <td>New York City</td>\n",
              "      <td>New York</td>\n",
              "      <td>487551</td>\n",
              "      <td>25562.0</td>\n",
              "    </tr>\n",
              "    <tr>\n",
              "      <th>919145</th>\n",
              "      <td>2021-01-11</td>\n",
              "      <td>New York City</td>\n",
              "      <td>New York</td>\n",
              "      <td>493306</td>\n",
              "      <td>25635.0</td>\n",
              "    </tr>\n",
              "    <tr>\n",
              "      <th>922390</th>\n",
              "      <td>2021-01-12</td>\n",
              "      <td>New York City</td>\n",
              "      <td>New York</td>\n",
              "      <td>498877</td>\n",
              "      <td>25698.0</td>\n",
              "    </tr>\n",
              "    <tr>\n",
              "      <th>925636</th>\n",
              "      <td>2021-01-13</td>\n",
              "      <td>New York City</td>\n",
              "      <td>New York</td>\n",
              "      <td>504826</td>\n",
              "      <td>25741.0</td>\n",
              "    </tr>\n",
              "    <tr>\n",
              "      <th>928881</th>\n",
              "      <td>2021-01-14</td>\n",
              "      <td>New York City</td>\n",
              "      <td>New York</td>\n",
              "      <td>510711</td>\n",
              "      <td>25834.0</td>\n",
              "    </tr>\n",
              "    <tr>\n",
              "      <th>932126</th>\n",
              "      <td>2021-01-15</td>\n",
              "      <td>New York City</td>\n",
              "      <td>New York</td>\n",
              "      <td>517963</td>\n",
              "      <td>25909.0</td>\n",
              "    </tr>\n",
              "    <tr>\n",
              "      <th>935371</th>\n",
              "      <td>2021-01-16</td>\n",
              "      <td>New York City</td>\n",
              "      <td>New York</td>\n",
              "      <td>524231</td>\n",
              "      <td>25970.0</td>\n",
              "    </tr>\n",
              "    <tr>\n",
              "      <th>938616</th>\n",
              "      <td>2021-01-17</td>\n",
              "      <td>New York City</td>\n",
              "      <td>New York</td>\n",
              "      <td>529834</td>\n",
              "      <td>26036.0</td>\n",
              "    </tr>\n",
              "    <tr>\n",
              "      <th>941861</th>\n",
              "      <td>2021-01-18</td>\n",
              "      <td>New York City</td>\n",
              "      <td>New York</td>\n",
              "      <td>536287</td>\n",
              "      <td>26104.0</td>\n",
              "    </tr>\n",
              "    <tr>\n",
              "      <th>945107</th>\n",
              "      <td>2021-01-19</td>\n",
              "      <td>New York City</td>\n",
              "      <td>New York</td>\n",
              "      <td>541846</td>\n",
              "      <td>26161.0</td>\n",
              "    </tr>\n",
              "  </tbody>\n",
              "</table>\n",
              "</div>"
            ],
            "text/plain": [
              "              date         county     state   cases   deaths\n",
              "847750  2020-12-20  New York City  New York  383808  24697.0\n",
              "850995  2020-12-21  New York City  New York  387595  24735.0\n",
              "854240  2020-12-22  New York City  New York  391634  24768.0\n",
              "857485  2020-12-23  New York City  New York  395810  24790.0\n",
              "860730  2020-12-24  New York City  New York  401251  24842.0\n",
              "863975  2020-12-25  New York City  New York  405857  24889.0\n",
              "867220  2020-12-26  New York City  New York  410048  24931.0\n",
              "870465  2020-12-27  New York City  New York  413472  24973.0\n",
              "873710  2020-12-28  New York City  New York  416922  25008.0\n",
              "876955  2020-12-29  New York City  New York  422074  25055.0\n",
              "880200  2020-12-30  New York City  New York  426279  25099.0\n",
              "883445  2020-12-31  New York City  New York  430863  25144.0\n",
              "886690  2021-01-01  New York City  New York  436692  25186.0\n",
              "889937  2021-01-02  New York City  New York  442695  25211.0\n",
              "893183  2021-01-03  New York City  New York  446899  25244.0\n",
              "896429  2021-01-04  New York City  New York  450658  25284.0\n",
              "899674  2021-01-05  New York City  New York  455997  25309.0\n",
              "902919  2021-01-06  New York City  New York  460988  25362.0\n",
              "906165  2021-01-07  New York City  New York  467327  25416.0\n",
              "909410  2021-01-08  New York City  New York  474339  25453.0\n",
              "912655  2021-01-09  New York City  New York  481279  25505.0\n",
              "915900  2021-01-10  New York City  New York  487551  25562.0\n",
              "919145  2021-01-11  New York City  New York  493306  25635.0\n",
              "922390  2021-01-12  New York City  New York  498877  25698.0\n",
              "925636  2021-01-13  New York City  New York  504826  25741.0\n",
              "928881  2021-01-14  New York City  New York  510711  25834.0\n",
              "932126  2021-01-15  New York City  New York  517963  25909.0\n",
              "935371  2021-01-16  New York City  New York  524231  25970.0\n",
              "938616  2021-01-17  New York City  New York  529834  26036.0\n",
              "941861  2021-01-18  New York City  New York  536287  26104.0\n",
              "945107  2021-01-19  New York City  New York  541846  26161.0"
            ]
          },
          "metadata": {
            "tags": []
          },
          "execution_count": 31
        }
      ]
    },
    {
      "cell_type": "markdown",
      "metadata": {
        "id": "TdY5ot695DBF"
      },
      "source": [
        "Exploratory Data Analysis (EDA) for New York"
      ]
    },
    {
      "cell_type": "code",
      "metadata": {
        "colab": {
          "base_uri": "https://localhost:8080/",
          "height": 361
        },
        "id": "wQGHAa4TUnSw",
        "outputId": "aa5bb5a5-67c6-4507-c0ae-4aeb65cdafa3"
      },
      "source": [
        "sns.distplot(df4[\"cases\"], bins = 10)"
      ],
      "execution_count": 32,
      "outputs": [
        {
          "output_type": "stream",
          "text": [
            "/usr/local/lib/python3.6/dist-packages/seaborn/distributions.py:2557: FutureWarning: `distplot` is a deprecated function and will be removed in a future version. Please adapt your code to use either `displot` (a figure-level function with similar flexibility) or `histplot` (an axes-level function for histograms).\n",
            "  warnings.warn(msg, FutureWarning)\n"
          ],
          "name": "stderr"
        },
        {
          "output_type": "execute_result",
          "data": {
            "text/plain": [
              "<matplotlib.axes._subplots.AxesSubplot at 0x7fbcfb43b470>"
            ]
          },
          "metadata": {
            "tags": []
          },
          "execution_count": 32
        },
        {
          "output_type": "display_data",
          "data": {
            "image/png": "[encoded data removed]",
            "text/plain": [
              "<Figure size 432x288 with 1 Axes>"
            ]
          },
          "metadata": {
            "tags": [],
            "needs_background": "light"
          }
        }
      ]
    },
    {
      "cell_type": "code",
      "metadata": {
        "colab": {
          "base_uri": "https://localhost:8080/",
          "height": 458
        },
        "id": "WeckhuezVI3x",
        "outputId": "2588b901-515c-42c8-b6d6-51e7c7be4669"
      },
      "source": [
        "sns.jointplot(x='cases', y='deaths', data=df4)"
      ],
      "execution_count": 33,
      "outputs": [
        {
          "output_type": "execute_result",
          "data": {
            "text/plain": [
              "<seaborn.axisgrid.JointGrid at 0x7fbcfb352ac8>"
            ]
          },
          "metadata": {
            "tags": []
          },
          "execution_count": 33
        },
        {
          "output_type": "display_data",
          "data": {
            "image/png": "[encoded data removed]",
            "text/plain": [
              "<Figure size 432x432 with 3 Axes>"
            ]
          },
          "metadata": {
            "tags": [],
            "needs_background": "light"
          }
        }
      ]
    },
    {
      "cell_type": "markdown",
      "metadata": {
        "id": "qx2wZMpzAkj9"
      },
      "source": [
        "# **Task 5: Comparing COVID-19 Data With Different States**"
      ]
    },
    {
      "cell_type": "markdown",
      "metadata": {
        "id": "hS3njmiQk09H"
      },
      "source": [
        "New Cases and Deaths (California)"
      ]
    },
    {
      "cell_type": "code",
      "metadata": {
        "colab": {
          "base_uri": "https://localhost:8080/"
        },
        "id": "QBXLW2ZLXA1M",
        "outputId": "ea982f9b-faf4-4ce9-ccd9-0bc99043f13b"
      },
      "source": [
        "df2.min()"
      ],
      "execution_count": 13,
      "outputs": [
        {
          "output_type": "execute_result",
          "data": {
            "text/plain": [
              "date       2020-12-20\n",
              "county    Los Angeles\n",
              "state      California\n",
              "cases          623875\n",
              "deaths           8875\n",
              "dtype: object"
            ]
          },
          "metadata": {
            "tags": []
          },
          "execution_count": 13
        }
      ]
    },
    {
      "cell_type": "code",
      "metadata": {
        "colab": {
          "base_uri": "https://localhost:8080/"
        },
        "id": "OKapoh3AXJC7",
        "outputId": "d6aed451-b385-46d4-e7ab-3b38398ec8ba"
      },
      "source": [
        "df2.max()"
      ],
      "execution_count": 14,
      "outputs": [
        {
          "output_type": "execute_result",
          "data": {
            "text/plain": [
              "date       2021-01-19\n",
              "county    Los Angeles\n",
              "state      California\n",
              "cases         1032277\n",
              "deaths          14122\n",
              "dtype: object"
            ]
          },
          "metadata": {
            "tags": []
          },
          "execution_count": 14
        }
      ]
    },
    {
      "cell_type": "code",
      "metadata": {
        "colab": {
          "base_uri": "https://localhost:8080/"
        },
        "id": "XFhOuWPGhMnj",
        "outputId": "62615337-d3d6-4491-bfd9-8dd3aa67016c"
      },
      "source": [
        "col_of_interest = [\"cases\"]\n",
        "new_cases_Cali = df2[col_of_interest].max() - df2[col_of_interest].min()\n",
        "new_cases_Cali"
      ],
      "execution_count": 44,
      "outputs": [
        {
          "output_type": "execute_result",
          "data": {
            "text/plain": [
              "cases    408402\n",
              "dtype: int64"
            ]
          },
          "metadata": {
            "tags": []
          },
          "execution_count": 44
        }
      ]
    },
    {
      "cell_type": "code",
      "metadata": {
        "colab": {
          "base_uri": "https://localhost:8080/"
        },
        "id": "V9A-6V9Gh9Wl",
        "outputId": "cf4ee06e-a825-4ef4-9498-7989bccf853d"
      },
      "source": [
        "col_of_interest = [\"deaths\"]\n",
        "new_deaths_Cali = df2[col_of_interest].max() - df2[col_of_interest].min()\n",
        "new_deaths_Cali"
      ],
      "execution_count": 45,
      "outputs": [
        {
          "output_type": "execute_result",
          "data": {
            "text/plain": [
              "deaths    5247.0\n",
              "dtype: float64"
            ]
          },
          "metadata": {
            "tags": []
          },
          "execution_count": 45
        }
      ]
    },
    {
      "cell_type": "markdown",
      "metadata": {
        "id": "VpJKJCMgk4yS"
      },
      "source": [
        "New Cases and Deaths (Florida)"
      ]
    },
    {
      "cell_type": "code",
      "metadata": {
        "colab": {
          "base_uri": "https://localhost:8080/"
        },
        "id": "x2Ecb0ClXeaV",
        "outputId": "aaa228ea-15c1-429c-e698-66d6dc00d071"
      },
      "source": [
        "df3.min()"
      ],
      "execution_count": 25,
      "outputs": [
        {
          "output_type": "execute_result",
          "data": {
            "text/plain": [
              "date      2020-12-20\n",
              "county        Nassau\n",
              "state        Florida\n",
              "cases           4077\n",
              "deaths            64\n",
              "dtype: object"
            ]
          },
          "metadata": {
            "tags": []
          },
          "execution_count": 25
        }
      ]
    },
    {
      "cell_type": "code",
      "metadata": {
        "colab": {
          "base_uri": "https://localhost:8080/"
        },
        "id": "RLCy4OT8Xmk5",
        "outputId": "8c0e1367-8a46-4f14-e30b-553e0ec513c8"
      },
      "source": [
        "df3.max()"
      ],
      "execution_count": 26,
      "outputs": [
        {
          "output_type": "execute_result",
          "data": {
            "text/plain": [
              "date      2021-01-19\n",
              "county        Nassau\n",
              "state        Florida\n",
              "cases           6341\n",
              "deaths            73\n",
              "dtype: object"
            ]
          },
          "metadata": {
            "tags": []
          },
          "execution_count": 26
        }
      ]
    },
    {
      "cell_type": "code",
      "metadata": {
        "colab": {
          "base_uri": "https://localhost:8080/"
        },
        "id": "nLNUe8Gojqn6",
        "outputId": "bcd209c7-b430-4572-cebc-2201b2472a0f"
      },
      "source": [
        "col_of_interest = [\"cases\"]\n",
        "new_cases_Flor = df3[col_of_interest].max() - df3[col_of_interest].min()\n",
        "new_cases_Flor"
      ],
      "execution_count": 46,
      "outputs": [
        {
          "output_type": "execute_result",
          "data": {
            "text/plain": [
              "cases    2264\n",
              "dtype: int64"
            ]
          },
          "metadata": {
            "tags": []
          },
          "execution_count": 46
        }
      ]
    },
    {
      "cell_type": "code",
      "metadata": {
        "colab": {
          "base_uri": "https://localhost:8080/"
        },
        "id": "sCddQXHXj1UH",
        "outputId": "7f4ae2e3-7e83-472c-a969-744eaa0d0150"
      },
      "source": [
        "col_of_interest = [\"deaths\"]\n",
        "new_deaths_Flor = df3[col_of_interest].max() - df3[col_of_interest].min()\n",
        "new_deaths_Flor"
      ],
      "execution_count": 47,
      "outputs": [
        {
          "output_type": "execute_result",
          "data": {
            "text/plain": [
              "deaths    9.0\n",
              "dtype: float64"
            ]
          },
          "metadata": {
            "tags": []
          },
          "execution_count": 47
        }
      ]
    },
    {
      "cell_type": "markdown",
      "metadata": {
        "id": "Jg8W5zsskaZP"
      },
      "source": [
        "New Cases and Deaths (New York)"
      ]
    },
    {
      "cell_type": "code",
      "metadata": {
        "colab": {
          "base_uri": "https://localhost:8080/"
        },
        "id": "PRVsHlITWdWe",
        "outputId": "ebef1046-39eb-4190-c98f-e2e7bcc07fc6"
      },
      "source": [
        "df4.min()"
      ],
      "execution_count": 34,
      "outputs": [
        {
          "output_type": "execute_result",
          "data": {
            "text/plain": [
              "date         2020-12-20\n",
              "county    New York City\n",
              "state          New York\n",
              "cases            383808\n",
              "deaths            24697\n",
              "dtype: object"
            ]
          },
          "metadata": {
            "tags": []
          },
          "execution_count": 34
        }
      ]
    },
    {
      "cell_type": "code",
      "metadata": {
        "colab": {
          "base_uri": "https://localhost:8080/"
        },
        "id": "1LkraKEZWjSY",
        "outputId": "b8a0ea50-78eb-4634-f830-b5906faa1ae1"
      },
      "source": [
        "df4.max()"
      ],
      "execution_count": 35,
      "outputs": [
        {
          "output_type": "execute_result",
          "data": {
            "text/plain": [
              "date         2021-01-19\n",
              "county    New York City\n",
              "state          New York\n",
              "cases            541846\n",
              "deaths            26161\n",
              "dtype: object"
            ]
          },
          "metadata": {
            "tags": []
          },
          "execution_count": 35
        }
      ]
    },
    {
      "cell_type": "code",
      "metadata": {
        "colab": {
          "base_uri": "https://localhost:8080/"
        },
        "id": "vsMqf7zFkCbW",
        "outputId": "cfdca96a-ff68-4054-e7d7-e1b10b48d51d"
      },
      "source": [
        "col_of_interest = [\"cases\"]\n",
        "new_cases_NY = df4[col_of_interest].max() - df4[col_of_interest].min()\n",
        "new_cases_NY"
      ],
      "execution_count": 42,
      "outputs": [
        {
          "output_type": "execute_result",
          "data": {
            "text/plain": [
              "cases    158038\n",
              "dtype: int64"
            ]
          },
          "metadata": {
            "tags": []
          },
          "execution_count": 42
        }
      ]
    },
    {
      "cell_type": "code",
      "metadata": {
        "colab": {
          "base_uri": "https://localhost:8080/"
        },
        "id": "tDgmr9v-kIJs",
        "outputId": "ab51707f-844b-44ff-c5c8-b944e2cda551"
      },
      "source": [
        "col_of_interest = [\"deaths\"]\n",
        "new_deaths_NY = df4[col_of_interest].max() - df4[col_of_interest].min()\n",
        "new_deaths_NY"
      ],
      "execution_count": 43,
      "outputs": [
        {
          "output_type": "execute_result",
          "data": {
            "text/plain": [
              "deaths    1464.0\n",
              "dtype: float64"
            ]
          },
          "metadata": {
            "tags": []
          },
          "execution_count": 43
        }
      ]
    },
    {
      "cell_type": "markdown",
      "metadata": {
        "id": "79yQWpoPAtkQ"
      },
      "source": [
        "# **Task 6: Conclusion**"
      ]
    },
    {
      "cell_type": "markdown",
      "metadata": {
        "id": "6hOXOYxxA0YO"
      },
      "source": [
        "Data was analyzed for Los Angeles, California; Nassau, Florida; and New York City, New York.\n",
        "\n",
        "Los Angeles, California had a total of **1,032,277** known cases of COVID-19, which lead to a total of **14,122** deaths between December 20, 2020 and January 19, 2021. Los Angeles also had a total of **408,402** new cases of COVID-19 leading to a total of **5,247** new deaths between these dates.\n",
        "\n",
        "Nassau, Florida had a total of **6,341** known cases of COVID-19, which lead to a total of **73** deaths between December 20, 2020 and January 19, 2021. Nassau also had a total of **2,264** new cases of COVID-19 leading to a total of **9** new deaths between these dates.\n",
        "\n",
        "New York City, New York had a total of **541,846** known cases of COVID-19, which lead to a total of **26,161** deaths between December 20, 2020 and January 19, 2021. New York City also had a total of **158,038** new cases of COVID-19 leading to a total of **1,464** new deaths between these dates.\n",
        "\n",
        "**Overall Conclusion**:\n",
        "Out of the three analyzed states, Los Angeles, California had the most **KNOWN CASES** of COVID-19, the highest amount of **NEW CASES** of COVID-19, and the highest amount of **NEW DEATHS** caused by the virus between December 20, 2020 and January 19, 2021. New York City, New York had the most **TOTAL DEATHS** caused by COVID-19. Nassau, Florida had the least amount in all four categories, which is probably due to their smaller population."
      ]
    }
  ]
}